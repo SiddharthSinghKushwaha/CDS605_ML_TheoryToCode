{
  "nbformat": 4,
  "nbformat_minor": 0,
  "metadata": {
    "colab": {
      "provenance": [],
      "authorship_tag": "ABX9TyM0lBcjFfCwA7cZsXi60DY/",
      "include_colab_link": true
    },
    "kernelspec": {
      "name": "python3",
      "display_name": "Python 3"
    },
    "language_info": {
      "name": "python"
    }
  },
  "cells": [
    {
      "cell_type": "markdown",
      "metadata": {
        "id": "view-in-github",
        "colab_type": "text"
      },
      "source": [
        "<a href=\"https://colab.research.google.com/github/SiddharthSinghKushwaha/CDS605_ML_TheoryToCode/blob/main/R_Squared.ipynb\" target=\"_parent\"><img src=\"https://colab.research.google.com/assets/colab-badge.svg\" alt=\"Open In Colab\"/></a>"
      ]
    },
    {
      "cell_type": "markdown",
      "source": [
        "Performance metric for Regression Models: **R-Squared**"
      ],
      "metadata": {
        "id": "5zE_rzRIqvhp"
      }
    },
    {
      "cell_type": "code",
      "execution_count": 2,
      "metadata": {
        "colab": {
          "base_uri": "https://localhost:8080/"
        },
        "id": "Ci6RMaJskCO4",
        "outputId": "54924faa-ccf4-4974-8e6f-5e6cadfc6994"
      },
      "outputs": [
        {
          "output_type": "stream",
          "name": "stdout",
          "text": [
            "[ 1  4  9 16 25]\n",
            "[-1  5 11 17 23]\n"
          ]
        }
      ],
      "source": [
        "import numpy as np\n",
        "# Assuming that y_pred is calculated\n",
        "y = np.array([1,4,9,16,25])\n",
        "y_pred = np.array([-1,5,11,17,23])\n",
        "print(y)\n",
        "print(y_pred)"
      ]
    },
    {
      "cell_type": "code",
      "source": [
        "# mean of y\n",
        "y_mean = np.mean(y)\n",
        "print(y_mean)"
      ],
      "metadata": {
        "colab": {
          "base_uri": "https://localhost:8080/"
        },
        "id": "oGKyPltetk0U",
        "outputId": "9727ac8b-7500-4f23-acfe-087b6a80d09d"
      },
      "execution_count": 3,
      "outputs": [
        {
          "output_type": "stream",
          "name": "stdout",
          "text": [
            "11.0\n"
          ]
        }
      ]
    },
    {
      "cell_type": "code",
      "source": [
        "# calculating residual (e) yi - y_pred and its squared (yi - y_pred)^2\n",
        "e = np.zeros(len(y))\n",
        "e_sq = np.zeros(len(y))\n",
        "for i in range(len(y)):\n",
        "  e[i] = y[i] - y_pred[i]\n",
        "  e_sq[i] = e[i]**2\n",
        "\n",
        "print(e)\n",
        "print(e_sq)"
      ],
      "metadata": {
        "colab": {
          "base_uri": "https://localhost:8080/"
        },
        "id": "tq0N6EUNtyoI",
        "outputId": "a929e5d7-e636-4950-8a73-a3fe9d304b83"
      },
      "execution_count": 8,
      "outputs": [
        {
          "output_type": "stream",
          "name": "stdout",
          "text": [
            "[ 2. -1. -2. -1.  2.]\n",
            "[4. 1. 4. 1. 4.]\n"
          ]
        }
      ]
    },
    {
      "cell_type": "code",
      "source": [
        "# calculate Sum of Squares Error (SSE)\n",
        "SSE = np.sum(e_sq)\n",
        "print(SSE)"
      ],
      "metadata": {
        "colab": {
          "base_uri": "https://localhost:8080/"
        },
        "id": "vscYBnaovJH6",
        "outputId": "f8581792-d99e-4be2-9caa-0cd1706b7dce"
      },
      "execution_count": 9,
      "outputs": [
        {
          "output_type": "stream",
          "name": "stdout",
          "text": [
            "14.0\n"
          ]
        }
      ]
    },
    {
      "cell_type": "code",
      "source": [
        "# calculating yi - y_mean and its squares\n",
        "y_e = np.zeros(len(y))\n",
        "y_e_sq = np.zeros(len(y))\n",
        "for i in range(len(y)):\n",
        "  y_e[i] = y[i] - y_mean\n",
        "  y_e_sq[i] = y_e[i]**2\n",
        "\n",
        "print(y_e)\n",
        "print(y_e_sq)"
      ],
      "metadata": {
        "colab": {
          "base_uri": "https://localhost:8080/"
        },
        "id": "19nk1Le9uv12",
        "outputId": "84ffd542-d161-4640-ba3c-f6bb303d6fb9"
      },
      "execution_count": 10,
      "outputs": [
        {
          "output_type": "stream",
          "name": "stdout",
          "text": [
            "[-10.  -7.  -2.   5.  14.]\n",
            "[100.  49.   4.  25. 196.]\n"
          ]
        }
      ]
    },
    {
      "cell_type": "code",
      "source": [
        "# calculating Sum of Squares Total (SST)\n",
        "SST = np.sum(y_e_sq)\n",
        "print(SST)"
      ],
      "metadata": {
        "colab": {
          "base_uri": "https://localhost:8080/"
        },
        "id": "25AbaRAlvrCo",
        "outputId": "577c2538-e1a2-4231-bad5-21f789879f2c"
      },
      "execution_count": 11,
      "outputs": [
        {
          "output_type": "stream",
          "name": "stdout",
          "text": [
            "374.0\n"
          ]
        }
      ]
    },
    {
      "cell_type": "code",
      "source": [
        "# calculating r_squared = 1 - (SSE/SST)\n",
        "r_squared = 1 - (SSE/SST)\n",
        "print(round(r_squared,3))"
      ],
      "metadata": {
        "colab": {
          "base_uri": "https://localhost:8080/"
        },
        "id": "WDxaWmfvv3XB",
        "outputId": "c742ac37-92fb-42d6-fd7e-239927dba488"
      },
      "execution_count": 16,
      "outputs": [
        {
          "output_type": "stream",
          "name": "stdout",
          "text": [
            "0.963\n"
          ]
        }
      ]
    },
    {
      "cell_type": "markdown",
      "source": [
        "Calculating R-Squared by using Scikit-learn"
      ],
      "metadata": {
        "id": "KyfDJLSNwQjR"
      }
    },
    {
      "cell_type": "code",
      "source": [
        "from sklearn.metrics import r2_score\n",
        "res = r2_score(y, y_pred)\n",
        "print(f\"Result using Sklearn Metrics is {round(res, 3)}\")"
      ],
      "metadata": {
        "colab": {
          "base_uri": "https://localhost:8080/"
        },
        "id": "zn6PRPPfwDq8",
        "outputId": "b2c4e764-3511-4bf9-c8f8-c3a77e94ff3d"
      },
      "execution_count": 17,
      "outputs": [
        {
          "output_type": "stream",
          "name": "stdout",
          "text": [
            "Result using Sklearn Metrics is 0.963\n"
          ]
        }
      ]
    },
    {
      "cell_type": "markdown",
      "source": [
        "Plotting a graph between RESIDUAL (e) and predicted values to analyse the behaviour"
      ],
      "metadata": {
        "id": "XH1cg7PjxTqL"
      }
    },
    {
      "cell_type": "code",
      "source": [
        "import matplotlib.pyplot as plt\n",
        "plt.scatter(y,y_pred)\n",
        "plt.show()"
      ],
      "metadata": {
        "colab": {
          "base_uri": "https://localhost:8080/",
          "height": 430
        },
        "id": "8QKKStKJwswf",
        "outputId": "1902d9e0-e32a-4a1f-ccfc-ed7757c4a3dc"
      },
      "execution_count": 19,
      "outputs": [
        {
          "output_type": "display_data",
          "data": {
            "text/plain": [
              "<Figure size 640x480 with 1 Axes>"
            ],
            "image/png": "[encoded data removed]"
          },
          "metadata": {}
        }
      ]
    },
    {
      "cell_type": "code",
      "source": [],
      "metadata": {
        "id": "WegPXA1Xxy91"
      },
      "execution_count": null,
      "outputs": []
    }
  ]
}