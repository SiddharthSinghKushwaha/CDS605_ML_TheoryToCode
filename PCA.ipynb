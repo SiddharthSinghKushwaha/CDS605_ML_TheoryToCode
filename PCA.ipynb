{
  "nbformat": 4,
  "nbformat_minor": 0,
  "metadata": {
    "colab": {
      "provenance": [],
      "authorship_tag": "ABX9TyPLulSmmfT0BRmzqDNOWyDm",
      "include_colab_link": true
    },
    "kernelspec": {
      "name": "python3",
      "display_name": "Python 3"
    },
    "language_info": {
      "name": "python"
    }
  },
  "cells": [
    {
      "cell_type": "markdown",
      "metadata": {
        "id": "view-in-github",
        "colab_type": "text"
      },
      "source": [
        "<a href=\"https://colab.research.google.com/github/SiddharthSinghKushwaha/CDS605_ML_TheoryToCode/blob/main/PCA.ipynb\" target=\"_parent\"><img src=\"https://colab.research.google.com/assets/colab-badge.svg\" alt=\"Open In Colab\"/></a>"
      ]
    },
    {
      "cell_type": "markdown",
      "source": [
        "# PCA - Principal Component Analysis"
      ],
      "metadata": {
        "id": "CNlpVT6Or2jA"
      }
    },
    {
      "cell_type": "code",
      "execution_count": 31,
      "metadata": {
        "id": "G6v4fZhHraRZ"
      },
      "outputs": [],
      "source": [
        "# import numpy\n",
        "import numpy as np"
      ]
    },
    {
      "cell_type": "code",
      "source": [
        "# create a 5x3 matrix\n",
        "x = np.array([[2,0,1],[0,2,3],[3,1,2],[1,3,0],[2,2,1]])\n",
        "print(x)\n",
        "# calculating column mean\n",
        "col_mean = np.mean(x,axis=0)\n",
        "print(col_mean)"
      ],
      "metadata": {
        "colab": {
          "base_uri": "https://localhost:8080/"
        },
        "id": "NGF6dKUMsKmA",
        "outputId": "6733a669-415b-4f62-a046-3b7bd92be7c8"
      },
      "execution_count": 32,
      "outputs": [
        {
          "output_type": "stream",
          "name": "stdout",
          "text": [
            "[[2 0 1]\n",
            " [0 2 3]\n",
            " [3 1 2]\n",
            " [1 3 0]\n",
            " [2 2 1]]\n",
            "[1.6 1.6 1.4]\n"
          ]
        }
      ]
    },
    {
      "cell_type": "code",
      "source": [
        "# subtracting column mean form each elements\n",
        "x_mean = x - col_mean\n",
        "print(x_mean)"
      ],
      "metadata": {
        "colab": {
          "base_uri": "https://localhost:8080/"
        },
        "id": "IgNY6N3ust58",
        "outputId": "14cf043b-59c9-41af-fe76-b3502464ef1b"
      },
      "execution_count": 33,
      "outputs": [
        {
          "output_type": "stream",
          "name": "stdout",
          "text": [
            "[[ 0.4 -1.6 -0.4]\n",
            " [-1.6  0.4  1.6]\n",
            " [ 1.4 -0.6  0.6]\n",
            " [-0.6  1.4 -1.4]\n",
            " [ 0.4  0.4 -0.4]]\n"
          ]
        }
      ]
    },
    {
      "cell_type": "code",
      "source": [
        "# calculating covariance matrix c = 1/(n-1)x_mean_transpose x x_mean\n",
        "c = np.dot(x_mean.T,x_mean)\n",
        "print(c)\n",
        "c = c/(x.shape[0]-1)\n",
        "print(c)"
      ],
      "metadata": {
        "colab": {
          "base_uri": "https://localhost:8080/"
        },
        "id": "sx0VP5VKtQai",
        "outputId": "bea98c31-b355-4f0c-9557-dfe0ee21c1b0"
      },
      "execution_count": 34,
      "outputs": [
        {
          "output_type": "stream",
          "name": "stdout",
          "text": [
            "[[ 5.2 -2.8 -1.2]\n",
            " [-2.8  5.2 -1.2]\n",
            " [-1.2 -1.2  5.2]]\n",
            "[[ 1.3 -0.7 -0.3]\n",
            " [-0.7  1.3 -0.3]\n",
            " [-0.3 -0.3  1.3]]\n"
          ]
        }
      ]
    },
    {
      "cell_type": "code",
      "source": [
        "# to find eigen  values\n",
        "eigen_values,eigen_vectors = np.linalg.eig(c)\n",
        "eigen_values = np.sort(eigen_values)[::-1]\n",
        "print(eigen_values)\n",
        "print(eigen_vectors)"
      ],
      "metadata": {
        "colab": {
          "base_uri": "https://localhost:8080/"
        },
        "id": "tH4N3QUUth6U",
        "outputId": "82c2b963-f6dc-4314-c7c5-745cfb3413e5"
      },
      "execution_count": 35,
      "outputs": [
        {
          "output_type": "stream",
          "name": "stdout",
          "text": [
            "[2.  1.5 0.4]\n",
            "[[ 6.39602149e-01  7.07106781e-01 -3.01511345e-01]\n",
            " [ 6.39602149e-01 -7.07106781e-01 -3.01511345e-01]\n",
            " [ 4.26401433e-01 -1.14298606e-16  9.04534034e-01]]\n"
          ]
        }
      ]
    },
    {
      "cell_type": "code",
      "source": [
        "# to arrange the eigen vectors in the order of eigen values\n",
        "#eigen_vectors = eigen_vectors[:,eigen_values.argsort()[::-1]]"
      ],
      "metadata": {
        "id": "GNDi0iVauPzV"
      },
      "execution_count": 36,
      "outputs": []
    },
    {
      "cell_type": "code",
      "source": [
        "# to calculate z=x_mean X eigen vectors to find the princpal component\n",
        "z = np.dot(x_mean,eigen_vectors)\n",
        "print(z)"
      ],
      "metadata": {
        "colab": {
          "base_uri": "https://localhost:8080/"
        },
        "id": "06_rNF5pHuwB",
        "outputId": "26b5a0bc-5eb7-428e-e6c8-d6538d78c68b"
      },
      "execution_count": 37,
      "outputs": [
        {
          "output_type": "stream",
          "name": "stdout",
          "text": [
            "[[-9.38083152e-01  1.41421356e+00  9.14409911e-17]\n",
            " [-8.52802865e-02 -1.41421356e+00  1.80906807e+00]\n",
            " [ 7.67522579e-01  1.41421356e+00  3.01511345e-01]\n",
            " [-8.52802865e-02 -1.41421356e+00 -1.50755672e+00]\n",
            " [ 3.41121146e-01 -2.13441537e-16 -6.03022689e-01]]\n"
          ]
        }
      ]
    },
    {
      "cell_type": "code",
      "source": [
        "z = np.round(z,2)\n",
        "print(z)"
      ],
      "metadata": {
        "colab": {
          "base_uri": "https://localhost:8080/"
        },
        "id": "Egpe0EwkXssE",
        "outputId": "34ab3dc2-7860-4d01-979a-69b351bd99b1"
      },
      "execution_count": 38,
      "outputs": [
        {
          "output_type": "stream",
          "name": "stdout",
          "text": [
            "[[-0.94  1.41  0.  ]\n",
            " [-0.09 -1.41  1.81]\n",
            " [ 0.77  1.41  0.3 ]\n",
            " [-0.09 -1.41 -1.51]\n",
            " [ 0.34 -0.   -0.6 ]]\n"
          ]
        }
      ]
    },
    {
      "cell_type": "markdown",
      "source": [
        "## Questions 2"
      ],
      "metadata": {
        "id": "8iqxkqcGWudD"
      }
    },
    {
      "cell_type": "code",
      "source": [
        "# perform all the same operations with the new array\n",
        "x = np.array([[2,0], [0,2], [3,1], [1,3], [2,2]])\n",
        "print(x)"
      ],
      "metadata": {
        "colab": {
          "base_uri": "https://localhost:8080/"
        },
        "id": "j_t01DFuI6Kg",
        "outputId": "4877b4b6-49a6-45b0-e30d-de63a739d304"
      },
      "execution_count": 39,
      "outputs": [
        {
          "output_type": "stream",
          "name": "stdout",
          "text": [
            "[[2 0]\n",
            " [0 2]\n",
            " [3 1]\n",
            " [1 3]\n",
            " [2 2]]\n"
          ]
        }
      ]
    },
    {
      "cell_type": "code",
      "source": [
        "# calculating column mean\n",
        "col_mean = np.mean(x,axis=0)\n",
        "print(col_mean)"
      ],
      "metadata": {
        "colab": {
          "base_uri": "https://localhost:8080/"
        },
        "id": "cGvAit88XN5i",
        "outputId": "7fee4964-53ce-42f4-d95b-6b0381358963"
      },
      "execution_count": 40,
      "outputs": [
        {
          "output_type": "stream",
          "name": "stdout",
          "text": [
            "[1.6 1.6]\n"
          ]
        }
      ]
    },
    {
      "cell_type": "code",
      "source": [
        "# subtracting column mean form each elements\n",
        "x_mean = x - col_mean\n",
        "print(x_mean)"
      ],
      "metadata": {
        "colab": {
          "base_uri": "https://localhost:8080/"
        },
        "id": "z48j4QaeXRHs",
        "outputId": "530a213f-99db-4f87-d738-a4466426d429"
      },
      "execution_count": 41,
      "outputs": [
        {
          "output_type": "stream",
          "name": "stdout",
          "text": [
            "[[ 0.4 -1.6]\n",
            " [-1.6  0.4]\n",
            " [ 1.4 -0.6]\n",
            " [-0.6  1.4]\n",
            " [ 0.4  0.4]]\n"
          ]
        }
      ]
    },
    {
      "cell_type": "code",
      "source": [
        "# calculating covariance matrix c = 1/(n-1)x_mean_transpose x x_mean\n",
        "c = np.dot(x_mean.T,x_mean)\n",
        "print(c)\n",
        "c = c/(x.shape[0]-1)\n",
        "print(c)"
      ],
      "metadata": {
        "colab": {
          "base_uri": "https://localhost:8080/"
        },
        "id": "xWe4q3ilXTjK",
        "outputId": "dc4074c1-8afc-45b6-de91-9673302e66df"
      },
      "execution_count": 42,
      "outputs": [
        {
          "output_type": "stream",
          "name": "stdout",
          "text": [
            "[[ 5.2 -2.8]\n",
            " [-2.8  5.2]]\n",
            "[[ 1.3 -0.7]\n",
            " [-0.7  1.3]]\n"
          ]
        }
      ]
    },
    {
      "cell_type": "code",
      "source": [
        "# to find eigen  values\n",
        "eigen_values,eigen_vectors = np.linalg.eig(c)\n",
        "eigen_values = np.sort(eigen_values)[::-1]\n",
        "print(eigen_values)\n",
        "print(eigen_vectors)"
      ],
      "metadata": {
        "colab": {
          "base_uri": "https://localhost:8080/"
        },
        "id": "CudkCT3wXW3G",
        "outputId": "019c7aa1-0354-45e1-920d-b358b7191135"
      },
      "execution_count": 43,
      "outputs": [
        {
          "output_type": "stream",
          "name": "stdout",
          "text": [
            "[2.  0.6]\n",
            "[[-0.70710678  0.70710678]\n",
            " [-0.70710678 -0.70710678]]\n"
          ]
        }
      ]
    },
    {
      "cell_type": "code",
      "source": [
        "# to calculate z=x_mean X eigen vectors to find the princpal component\n",
        "z = np.dot(x_mean,eigen_vectors)\n",
        "print(z)"
      ],
      "metadata": {
        "colab": {
          "base_uri": "https://localhost:8080/"
        },
        "id": "FGVlqKQYXZsh",
        "outputId": "390a189b-c212-487b-f5c9-6fa4490a4fa8"
      },
      "execution_count": 44,
      "outputs": [
        {
          "output_type": "stream",
          "name": "stdout",
          "text": [
            "[[ 8.48528137e-01  1.41421356e+00]\n",
            " [ 8.48528137e-01 -1.41421356e+00]\n",
            " [-5.65685425e-01  1.41421356e+00]\n",
            " [-5.65685425e-01 -1.41421356e+00]\n",
            " [-5.65685425e-01 -7.04230646e-17]]\n"
          ]
        }
      ]
    },
    {
      "cell_type": "code",
      "source": [
        "# represent z values in two decimal places\n",
        "z = np.round(z,2)\n",
        "print(z)"
      ],
      "metadata": {
        "colab": {
          "base_uri": "https://localhost:8080/"
        },
        "id": "bryi1lUvXcsb",
        "outputId": "df58048b-7b26-45b0-f3e5-e86d829990bf"
      },
      "execution_count": 45,
      "outputs": [
        {
          "output_type": "stream",
          "name": "stdout",
          "text": [
            "[[ 0.85  1.41]\n",
            " [ 0.85 -1.41]\n",
            " [-0.57  1.41]\n",
            " [-0.57 -1.41]\n",
            " [-0.57 -0.  ]]\n"
          ]
        }
      ]
    }
  ]
}