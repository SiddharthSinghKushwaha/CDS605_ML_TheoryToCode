{
  "nbformat": 4,
  "nbformat_minor": 0,
  "metadata": {
    "colab": {
      "provenance": []
    },
    "kernelspec": {
      "name": "python3",
      "display_name": "Python 3"
    },
    "language_info": {
      "name": "python"
    }
  },
  "cells": [
    {
      "cell_type": "markdown",
      "source": [
        "## Numpy Practice Problems"
      ],
      "metadata": {
        "id": "3Xq_aQu5tw9k"
      }
    },
    {
      "cell_type": "code",
      "execution_count": null,
      "metadata": {
        "colab": {
          "base_uri": "https://localhost:8080/"
        },
        "id": "2O4r8VxwqicI",
        "outputId": "aa8a7438-9013-460b-9176-6163040cd418"
      },
      "outputs": [
        {
          "output_type": "stream",
          "name": "stdout",
          "text": [
            "[0 1 2 3 4 5 6 7 8 9]\n"
          ]
        }
      ],
      "source": [
        "# 1. Create a NumPy array containing numbers 0-9\n",
        "import numpy as np\n",
        "arr1 = np.arange(10)\n",
        "print(arr1)"
      ]
    },
    {
      "cell_type": "code",
      "source": [
        "# 2. Generate a 3x3 matrix with values ranging from 2 to 10\n",
        "arr2 = np.arange(2,11).reshape(3,3)\n",
        "print(arr2)"
      ],
      "metadata": {
        "colab": {
          "base_uri": "https://localhost:8080/"
        },
        "id": "NHpJM1giuASY",
        "outputId": "59a764c3-f2b4-4fd0-fab9-1e04acd2b870"
      },
      "execution_count": null,
      "outputs": [
        {
          "output_type": "stream",
          "name": "stdout",
          "text": [
            "[[ 2  3  4]\n",
            " [ 5  6  7]\n",
            " [ 8  9 10]]\n"
          ]
        }
      ]
    },
    {
      "cell_type": "code",
      "source": [
        "# 3. Create an array of 10 zeroes and set the fifth value to 1\n",
        "arr3 = np.zeros(10)\n",
        "arr3[4] = 1\n",
        "print(arr3)"
      ],
      "metadata": {
        "colab": {
          "base_uri": "https://localhost:8080/"
        },
        "id": "Dp4z5yF6ubGx",
        "outputId": "3eacb9af-db99-4e45-cd15-8745a2a8c7a5"
      },
      "execution_count": null,
      "outputs": [
        {
          "output_type": "stream",
          "name": "stdout",
          "text": [
            "[0. 0. 0. 0. 1. 0. 0. 0. 0. 0.]\n"
          ]
        }
      ]
    },
    {
      "cell_type": "code",
      "source": [
        "# 4. Reverse a NumPy array without using loops\n",
        "arr4 = np.array([71,22,36,42,58])\n",
        "arr4 = arr4[::-1]\n",
        "print(arr4)"
      ],
      "metadata": {
        "colab": {
          "base_uri": "https://localhost:8080/"
        },
        "id": "w87p6COIuns5",
        "outputId": "d3a99d7f-2226-4c4a-ddcf-7489d6d6a051"
      },
      "execution_count": null,
      "outputs": [
        {
          "output_type": "stream",
          "name": "stdout",
          "text": [
            "[58 42 36 22 71]\n"
          ]
        }
      ]
    },
    {
      "cell_type": "code",
      "source": [
        "# 5. Create a 3x3 identity matrix\n",
        "arr5 = np.identity(3)\n",
        "print(arr5)"
      ],
      "metadata": {
        "colab": {
          "base_uri": "https://localhost:8080/"
        },
        "id": "uwhSdMjouzf8",
        "outputId": "fe4d0829-6ea4-49ce-b932-f77e97f560af"
      },
      "execution_count": null,
      "outputs": [
        {
          "output_type": "stream",
          "name": "stdout",
          "text": [
            "[[1. 0. 0.]\n",
            " [0. 1. 0.]\n",
            " [0. 0. 1.]]\n"
          ]
        }
      ]
    },
    {
      "cell_type": "code",
      "source": [
        "# 6. Generate an array of 9 random integers between 1 and 100, and reshape it to 3x3\n",
        "arr6 = np.random.randint(1,100,9).reshape(3,3)\n",
        "print(arr6)"
      ],
      "metadata": {
        "colab": {
          "base_uri": "https://localhost:8080/"
        },
        "id": "gHUG-Mxau-Ps",
        "outputId": "9c209c63-2c44-4733-d8b7-f62347fa74b8"
      },
      "execution_count": null,
      "outputs": [
        {
          "output_type": "stream",
          "name": "stdout",
          "text": [
            "[[30 60  1]\n",
            " [94  6 80]\n",
            " [25 38 30]]\n"
          ]
        }
      ]
    },
    {
      "cell_type": "code",
      "source": [
        "# 7. Find the maximum, minimum, and mean of a given array\n",
        "arr7 = np.array([56, 78, 34, 22, 90, 55, 34])\n",
        "print(np.max(arr7))\n",
        "print(np.min(arr7))\n",
        "print(np.round(np.mean(arr7),2))"
      ],
      "metadata": {
        "colab": {
          "base_uri": "https://localhost:8080/"
        },
        "id": "wVay-T58wHGI",
        "outputId": "283c84e1-e7ea-4f12-a15f-cd455241eebb"
      },
      "execution_count": null,
      "outputs": [
        {
          "output_type": "stream",
          "name": "stdout",
          "text": [
            "90\n",
            "22\n",
            "52.71\n"
          ]
        }
      ]
    },
    {
      "cell_type": "code",
      "source": [
        "# 8. Replace all the odd numbers in an array with -1\n",
        "arr8 = np.array([22, 67, 54, 34, 99, 60, 33])\n",
        "arr8[arr8%2 != 0] = -1    # boolean indexing\n",
        "print(arr8)\n",
        "\n",
        "# Q8 using loop\n",
        "arr8_2 = np.array([22, 67, 54, 34, 99, 60, 33])\n",
        "for i in range(len(arr8_2)):\n",
        "    if arr8_2[i]%2 != 0:\n",
        "        arr8_2[i] = -1\n",
        "print(arr8_2)\n",
        "\n",
        "# Q8 using list comprehension\n",
        "arr8_3 = np.array([22, 67, 54, 34, 99, 60, 33])\n",
        "arr8_3 = np.array([x if x%2 == 0 else -1 for x in arr8_3])\n",
        "print(arr8_3)"
      ],
      "metadata": {
        "colab": {
          "base_uri": "https://localhost:8080/"
        },
        "id": "qRuxTGy7wduV",
        "outputId": "6f3ffe46-67f3-493c-f8ce-143dc9e3112f"
      },
      "execution_count": null,
      "outputs": [
        {
          "output_type": "stream",
          "name": "stdout",
          "text": [
            "[22 -1 54 34 -1 60 -1]\n",
            "[22 -1 54 34 -1 60 -1]\n",
            "[22 -1 54 34 -1 60 -1]\n"
          ]
        }
      ]
    },
    {
      "cell_type": "code",
      "source": [
        "# 9. Create a 5x5 matrix values from 1 to 25, and extract the middle 3x3 submatrix\n",
        "arr9 = np.arange(1,26).reshape(5,5)\n",
        "print(arr9)\n",
        "arr9_middle = arr9[1:4,1:4]\n",
        "print(arr9_middle)"
      ],
      "metadata": {
        "colab": {
          "base_uri": "https://localhost:8080/"
        },
        "id": "p-pfPte4xmwr",
        "outputId": "100e00b6-f44c-4598-f443-4ecc0b75e129"
      },
      "execution_count": null,
      "outputs": [
        {
          "output_type": "stream",
          "name": "stdout",
          "text": [
            "[[ 1  2  3  4  5]\n",
            " [ 6  7  8  9 10]\n",
            " [11 12 13 14 15]\n",
            " [16 17 18 19 20]\n",
            " [21 22 23 24 25]]\n",
            "[[ 7  8  9]\n",
            " [12 13 14]\n",
            " [17 18 19]]\n"
          ]
        }
      ]
    },
    {
      "cell_type": "code",
      "source": [
        "# 10. Normalize a random 1D array (subtract mean, divide by std)\n",
        "arr10 = np.random.randint(1,100,10)\n",
        "arr10_mean = np.mean(arr10)\n",
        "arr10_std = np.std(arr10)\n",
        "arr10_norm = (arr10 - arr10_mean)/arr10_std\n",
        "print(arr10_norm)"
      ],
      "metadata": {
        "colab": {
          "base_uri": "https://localhost:8080/"
        },
        "id": "c4QAfwQk0UZt",
        "outputId": "57170a48-49f9-4377-8874-8dcd46fce5c3"
      },
      "execution_count": null,
      "outputs": [
        {
          "output_type": "stream",
          "name": "stdout",
          "text": [
            "[ 1.52011375 -0.37638133 -0.52226557  0.00291768 -1.2808636   0.81986941\n",
            " -1.19333306 -1.10580252  0.9365768   1.19916843]\n"
          ]
        }
      ]
    },
    {
      "cell_type": "code",
      "source": [
        "# 11. Stack two 2x2 matrices vertically and horizontally\n",
        "matrix1 = np.array([[1,5], [2, 4]])\n",
        "matrix2 = np.array([[4,8], [3, 9]])\n",
        "print(np.vstack((matrix1, matrix2)))\n",
        "print(np.hstack((matrix1, matrix2)))"
      ],
      "metadata": {
        "colab": {
          "base_uri": "https://localhost:8080/"
        },
        "id": "UbY8LF3c09Wn",
        "outputId": "9241cabc-f55f-48ea-c1d8-f73d5c045035"
      },
      "execution_count": null,
      "outputs": [
        {
          "output_type": "stream",
          "name": "stdout",
          "text": [
            "[[1 5]\n",
            " [2 4]\n",
            " [4 8]\n",
            " [3 9]]\n",
            "[[1 5 4 8]\n",
            " [2 4 3 9]]\n"
          ]
        }
      ]
    },
    {
      "cell_type": "code",
      "source": [
        "# 12. Create an array with random values and sort it in descending order\n",
        "arr12 = np.random.randint(1,100,10)\n",
        "arr12 = np.sort(arr12)[::-1] # (sort + reverse)it return a new sorted array\n",
        "print(arr12)"
      ],
      "metadata": {
        "colab": {
          "base_uri": "https://localhost:8080/"
        },
        "id": "EnwgEg3aIcvH",
        "outputId": "5691bec9-f0e7-4d10-ea4d-1e2f2e40368e"
      },
      "execution_count": null,
      "outputs": [
        {
          "output_type": "stream",
          "name": "stdout",
          "text": [
            "[83 80 76 39 35 34 30 30 29 23]\n"
          ]
        }
      ]
    },
    {
      "cell_type": "code",
      "source": [
        "# 13. Given two arrays, compute their element-wise product and dot product.\n",
        "arr13_1 = np.array([1,2,3])\n",
        "arr13_2 = np.array([4,5,6])\n",
        "print(np.multiply(arr13_1,arr13_2))\n",
        "print(np.dot(arr13_1,arr13_2))"
      ],
      "metadata": {
        "colab": {
          "base_uri": "https://localhost:8080/"
        },
        "id": "ABI48Z3LJLMZ",
        "outputId": "ab47c005-a7bd-4fa7-f817-755f2a4d07d3"
      },
      "execution_count": null,
      "outputs": [
        {
          "output_type": "stream",
          "name": "stdout",
          "text": [
            "[ 4 10 18]\n",
            "32\n"
          ]
        }
      ]
    },
    {
      "cell_type": "code",
      "source": [
        "# 14. Use Boolean indexing to select all even numbers from an array.\n",
        "arr14 = np.array([1, 2, 3, 4, 5, 6, 7, 8, 9])\n",
        "arr14 = arr14[arr14%2 == 0]\n",
        "print(arr14)"
      ],
      "metadata": {
        "colab": {
          "base_uri": "https://localhost:8080/"
        },
        "id": "7vkRPUFQJZUl",
        "outputId": "64670eb1-4168-4771-9e44-f0347416d5cb"
      },
      "execution_count": null,
      "outputs": [
        {
          "output_type": "stream",
          "name": "stdout",
          "text": [
            "[2 4 6 8]\n"
          ]
        }
      ]
    },
    {
      "cell_type": "code",
      "source": [
        "# 15. Create a 10x10 matrix and fill its border with 1s and the inside with 0s\n",
        "arr15 = np.zeros((10,10))\n",
        "arr15[0,:] = 1\n",
        "arr15[-1,:] = 1\n",
        "arr15[:,0] = 1\n",
        "arr15[:,-1] = 1\n",
        "print(arr15)\n",
        "\n",
        "# using loop\n",
        "arr15_2 = np.zeros((10,10))\n",
        "for i in range(0,10):\n",
        "    for j in range(0,10):\n",
        "      if i == 0 or i == 9 or j == 0 or j == 9:\n",
        "        arr15_2[i,j] = 1\n",
        "print(arr15_2)"
      ],
      "metadata": {
        "colab": {
          "base_uri": "https://localhost:8080/"
        },
        "id": "VKssHBGwJlFe",
        "outputId": "caabc5fa-0b1e-4969-c67f-220637ac13c4"
      },
      "execution_count": null,
      "outputs": [
        {
          "output_type": "stream",
          "name": "stdout",
          "text": [
            "[[1. 1. 1. 1. 1. 1. 1. 1. 1. 1.]\n",
            " [1. 0. 0. 0. 0. 0. 0. 0. 0. 1.]\n",
            " [1. 0. 0. 0. 0. 0. 0. 0. 0. 1.]\n",
            " [1. 0. 0. 0. 0. 0. 0. 0. 0. 1.]\n",
            " [1. 0. 0. 0. 0. 0. 0. 0. 0. 1.]\n",
            " [1. 0. 0. 0. 0. 0. 0. 0. 0. 1.]\n",
            " [1. 0. 0. 0. 0. 0. 0. 0. 0. 1.]\n",
            " [1. 0. 0. 0. 0. 0. 0. 0. 0. 1.]\n",
            " [1. 0. 0. 0. 0. 0. 0. 0. 0. 1.]\n",
            " [1. 1. 1. 1. 1. 1. 1. 1. 1. 1.]]\n",
            "[[1. 1. 1. 1. 1. 1. 1. 1. 1. 1.]\n",
            " [1. 0. 0. 0. 0. 0. 0. 0. 0. 1.]\n",
            " [1. 0. 0. 0. 0. 0. 0. 0. 0. 1.]\n",
            " [1. 0. 0. 0. 0. 0. 0. 0. 0. 1.]\n",
            " [1. 0. 0. 0. 0. 0. 0. 0. 0. 1.]\n",
            " [1. 0. 0. 0. 0. 0. 0. 0. 0. 1.]\n",
            " [1. 0. 0. 0. 0. 0. 0. 0. 0. 1.]\n",
            " [1. 0. 0. 0. 0. 0. 0. 0. 0. 1.]\n",
            " [1. 0. 0. 0. 0. 0. 0. 0. 0. 1.]\n",
            " [1. 1. 1. 1. 1. 1. 1. 1. 1. 1.]]\n"
          ]
        }
      ]
    },
    {
      "cell_type": "code",
      "source": [
        "# 16. Compute the Euclidean distance between two random 3D points using NumPy only.\n",
        "point1 = np.random.randint(1,10,3)\n",
        "point2 = np.random.randint(1,10,3)\n",
        "diff_sq = (point1 - point2)**2\n",
        "print(np.round(np.sqrt(np.sum(diff_sq)),2))"
      ],
      "metadata": {
        "colab": {
          "base_uri": "https://localhost:8080/"
        },
        "id": "Mfd6xF2RMsqh",
        "outputId": "a64e80e1-bd22-4433-867f-05f143b35d3b"
      },
      "execution_count": null,
      "outputs": [
        {
          "output_type": "stream",
          "name": "stdout",
          "text": [
            "8.06\n"
          ]
        }
      ]
    },
    {
      "cell_type": "code",
      "source": [
        "# 17. Generate a random 5x5 matrix and compute its determinant and inverse.\n",
        "matrix = np.random.randint(1,10,25).reshape(5,5)\n",
        "print(matrix)\n",
        "print(np.linalg.det(matrix))\n",
        "print(np.linalg.inv(matrix))"
      ],
      "metadata": {
        "colab": {
          "base_uri": "https://localhost:8080/"
        },
        "id": "YN1yt_6iOSqr",
        "outputId": "89bca433-517b-4cec-fc17-d63e1a565c2e"
      },
      "execution_count": null,
      "outputs": [
        {
          "output_type": "stream",
          "name": "stdout",
          "text": [
            "[[9 2 2 5 8]\n",
            " [8 5 3 9 9]\n",
            " [9 3 1 1 8]\n",
            " [2 7 5 1 3]\n",
            " [3 8 7 9 7]]\n",
            "1343.9999999999989\n",
            "[[ 0.35267857  0.20014881 -0.36904762  0.36681548 -0.39583333]\n",
            " [-0.32589286  0.38467262  0.01190476  0.21800595 -0.22916667]\n",
            " [ 0.51339286 -0.45758929 -0.17857143  0.04241071  0.1875    ]\n",
            " [ 0.04017857  0.21056548 -0.20238095  0.04389881 -0.10416667]\n",
            " [-0.34375    -0.33854167  0.58333333 -0.50520833  0.52083333]]\n"
          ]
        }
      ]
    },
    {
      "cell_type": "code",
      "source": [
        "# 18. Replace all NaN values in an array with the column mean. (row mean)\n",
        "arr18 = np.array([1, 2, np.nan, 4, 5, np.nan, 7, 8, 9])\n",
        "arr18_mean = np.nanmean(arr18)\n",
        "arr18[np.isnan(arr18)] = arr18_mean\n",
        "print(arr18)"
      ],
      "metadata": {
        "colab": {
          "base_uri": "https://localhost:8080/"
        },
        "id": "jcsoGB01OnVB",
        "outputId": "f9e9ce44-065b-4f56-bd17-6f353c910291"
      },
      "execution_count": null,
      "outputs": [
        {
          "output_type": "stream",
          "name": "stdout",
          "text": [
            "[1.         2.         5.14285714 4.         5.         5.14285714\n",
            " 7.         8.         9.        ]\n"
          ]
        }
      ]
    },
    {
      "cell_type": "code",
      "source": [
        "# 19. Given a matrix, find its eigenvalues and eigenvectors.\n",
        "matrix = np.array([[1, 2], [3, 4]])\n",
        "eigenvalues, eigenvectors = np.linalg.eig(matrix)\n",
        "print(eigenvalues)\n",
        "print(eigenvectors)"
      ],
      "metadata": {
        "colab": {
          "base_uri": "https://localhost:8080/"
        },
        "id": "ttt1ZyVRPRR4",
        "outputId": "456b8fa9-5229-44d1-85e1-401393413333"
      },
      "execution_count": null,
      "outputs": [
        {
          "output_type": "stream",
          "name": "stdout",
          "text": [
            "[-0.37228132  5.37228132]\n",
            "[[-0.82456484 -0.41597356]\n",
            " [ 0.56576746 -0.90937671]]\n"
          ]
        }
      ]
    },
    {
      "cell_type": "code",
      "source": [
        "# 20. Simulate rolling two dice 1000 times and compute the frequency of each sum (2–12).\n",
        "numbers = np.arange(2,13)\n",
        "count = np.zeros(12)\n",
        "frequency = {int(num): int(cnt) for num, cnt in zip(numbers, count)}\n",
        "for i in range(1000):\n",
        "  dice1 = np.random.randint(1,7)\n",
        "  dice2 = np.random.randint(1,7)\n",
        "  sumOfdice = dice1+dice2\n",
        "  frequency[sumOfdice] = frequency.get(sumOfdice,0)+1\n",
        "\n",
        "print(frequency)\n"
      ],
      "metadata": {
        "colab": {
          "base_uri": "https://localhost:8080/"
        },
        "id": "8nPYEoZ1QLcK",
        "outputId": "a7e79fd2-7956-4105-fc69-8d6c1b5bfd25"
      },
      "execution_count": null,
      "outputs": [
        {
          "output_type": "stream",
          "name": "stdout",
          "text": [
            "{2: 32, 3: 54, 4: 78, 5: 116, 6: 145, 7: 174, 8: 137, 9: 117, 10: 74, 11: 56, 12: 17}\n"
          ]
        }
      ]
    },
    {
      "cell_type": "code",
      "source": [
        "# 21. Save a NumPy array to disk and reload it from a .npy file.\n",
        "arr = np.random.randint(1,100,10)\n",
        "print(arr)\n",
        "np.save('array.npy', arr)\n",
        "array_loaded = np.load('array.npy')\n",
        "print(array_loaded)"
      ],
      "metadata": {
        "id": "5o0As1nYS9XD",
        "colab": {
          "base_uri": "https://localhost:8080/"
        },
        "outputId": "b9cec429-34c9-46ce-d9ec-b1c114448050"
      },
      "execution_count": 61,
      "outputs": [
        {
          "output_type": "stream",
          "name": "stdout",
          "text": [
            "[84 96 38 66 48 43 19 53 50 93]\n",
            "[84 96 38 66 48 43 19 53 50 93]\n"
          ]
        }
      ]
    }
  ]
}