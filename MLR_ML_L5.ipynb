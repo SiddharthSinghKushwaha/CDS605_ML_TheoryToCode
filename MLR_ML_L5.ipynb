{
  "nbformat": 4,
  "nbformat_minor": 0,
  "metadata": {
    "colab": {
      "provenance": [],
      "authorship_tag": "ABX9TyMUhY9oVTYHidI6ifX7Ghn1",
      "include_colab_link": true
    },
    "kernelspec": {
      "name": "python3",
      "display_name": "Python 3"
    },
    "language_info": {
      "name": "python"
    }
  },
  "cells": [
    {
      "cell_type": "markdown",
      "metadata": {
        "id": "view-in-github",
        "colab_type": "text"
      },
      "source": [
        "<a href=\"https://colab.research.google.com/github/SiddharthSinghKushwaha/CDS605_ML_TheoryToCode/blob/main/MLR_ML_L5.ipynb\" target=\"_parent\"><img src=\"https://colab.research.google.com/assets/colab-badge.svg\" alt=\"Open In Colab\"/></a>"
      ]
    },
    {
      "cell_type": "markdown",
      "source": [
        "Python Implementation of **Multiple Regression (MLR)**. Implementing the solved example. CLass date: Aug 21,2025."
      ],
      "metadata": {
        "id": "TOeCR-qdQgF2"
      }
    },
    {
      "cell_type": "code",
      "execution_count": 22,
      "metadata": {
        "colab": {
          "base_uri": "https://localhost:8080/"
        },
        "id": "qHJoRExSQVzd",
        "outputId": "b54731cb-82f0-44fb-a625-a220c8f30485"
      },
      "outputs": [
        {
          "output_type": "stream",
          "name": "stdout",
          "text": [
            "[[1 1 2]\n",
            " [1 2 0]\n",
            " [1 3 1]]\n",
            "[4 3 5]\n"
          ]
        }
      ],
      "source": [
        "# importing numpy library\n",
        "import numpy as np\n",
        "\n",
        "# Initializing X 2D matrix and Y vector\n",
        "X = np.array([[1,1,2],\n",
        "              [1,2,0], [1,3,1]])\n",
        "Y = np.array([4,3,5])\n",
        "print(X)\n",
        "print(Y)"
      ]
    },
    {
      "cell_type": "code",
      "source": [
        "# Transpose of matrix X\n",
        "X_T = X.T\n",
        "print(X_T)"
      ],
      "metadata": {
        "colab": {
          "base_uri": "https://localhost:8080/"
        },
        "id": "v9X5Z-PYVNW3",
        "outputId": "77eefb32-ff8f-455b-f334-5d0a6a8e6ae2"
      },
      "execution_count": 23,
      "outputs": [
        {
          "output_type": "stream",
          "name": "stdout",
          "text": [
            "[[1 1 1]\n",
            " [1 2 3]\n",
            " [2 0 1]]\n"
          ]
        }
      ]
    },
    {
      "cell_type": "code",
      "source": [
        "# multiplying X_T and X\n",
        "X_T_X = np.dot(X_T,X)\n",
        "print(X_T_X)\n",
        "\n",
        "# result will be always Symmetric matrix (equals to its transpose)"
      ],
      "metadata": {
        "colab": {
          "base_uri": "https://localhost:8080/"
        },
        "id": "q2ef8sC3VbE1",
        "outputId": "b816d7f9-d8e2-45c8-ada6-8bcb5ebeeb77"
      },
      "execution_count": 24,
      "outputs": [
        {
          "output_type": "stream",
          "name": "stdout",
          "text": [
            "[[ 3  6  3]\n",
            " [ 6 14  5]\n",
            " [ 3  5  5]]\n"
          ]
        }
      ]
    },
    {
      "cell_type": "code",
      "source": [
        "# determinat of X_T_X\n",
        "det_X_T_X = round(np.linalg.det(X_T_X),2)\n",
        "print(det_X_T_X)"
      ],
      "metadata": {
        "colab": {
          "base_uri": "https://localhost:8080/"
        },
        "id": "pikxLkGQVjge",
        "outputId": "6d4d57eb-5d7d-4171-88ae-7a648f108545"
      },
      "execution_count": 25,
      "outputs": [
        {
          "output_type": "stream",
          "name": "stdout",
          "text": [
            "9.0\n"
          ]
        }
      ]
    },
    {
      "cell_type": "code",
      "source": [
        "# inverse of X_T_X\n",
        "inv_X_T_X = np.linalg.inv(X_T_X)\n",
        "print(inv_X_T_X)"
      ],
      "metadata": {
        "colab": {
          "base_uri": "https://localhost:8080/"
        },
        "id": "BQwUBBtjYypq",
        "outputId": "33ebc0ec-106c-44eb-a4c9-455f059cad6c"
      },
      "execution_count": 26,
      "outputs": [
        {
          "output_type": "stream",
          "name": "stdout",
          "text": [
            "[[ 5.         -1.66666667 -1.33333333]\n",
            " [-1.66666667  0.66666667  0.33333333]\n",
            " [-1.33333333  0.33333333  0.66666667]]\n"
          ]
        }
      ]
    },
    {
      "cell_type": "code",
      "source": [
        "# dot product of X_T and Y\n",
        "X_T_Y = np.dot(X_T,Y)\n",
        "print(X_T_Y)"
      ],
      "metadata": {
        "colab": {
          "base_uri": "https://localhost:8080/"
        },
        "id": "F9UWr8rCcDhS",
        "outputId": "c1ab11d5-d59c-4018-ebdb-9518c3786601"
      },
      "execution_count": 27,
      "outputs": [
        {
          "output_type": "stream",
          "name": "stdout",
          "text": [
            "[12 25 13]\n"
          ]
        }
      ]
    },
    {
      "cell_type": "code",
      "source": [
        "# dot product of inv_X_T_X and X_T_Y\n",
        "B = np.dot(inv_X_T_X,X_T_Y)\n",
        "print(B)"
      ],
      "metadata": {
        "colab": {
          "base_uri": "https://localhost:8080/"
        },
        "id": "1qK7PHSPcNJW",
        "outputId": "4cc45ebf-62ed-4d5a-b21d-2abae5a98be7"
      },
      "execution_count": 28,
      "outputs": [
        {
          "output_type": "stream",
          "name": "stdout",
          "text": [
            "[1. 1. 1.]\n"
          ]
        }
      ]
    },
    {
      "cell_type": "code",
      "source": [
        "# final multiple regression equation y = B0 + B1x1 + B2x2\n",
        "for i in range(len(B)):\n",
        "  if i == 0:\n",
        "    print(f\"y = {round(B[i])}\",end=\" \")\n",
        "  else:\n",
        "    print(f\"+ {round(B[i])}.x{i}\",end=\" \")"
      ],
      "metadata": {
        "colab": {
          "base_uri": "https://localhost:8080/"
        },
        "id": "Vt9Wp0q2ceQw",
        "outputId": "7ba7112a-928b-4e0d-ef66-ed359c27f25d"
      },
      "execution_count": 29,
      "outputs": [
        {
          "output_type": "stream",
          "name": "stdout",
          "text": [
            "y = 1 + 1.x1 + 1.x2 "
          ]
        }
      ]
    },
    {
      "cell_type": "markdown",
      "source": [
        "Polynomial Regression"
      ],
      "metadata": {
        "id": "Ta77mAVOmQRj"
      }
    },
    {
      "cell_type": "code",
      "source": [
        "# importing numpy library\n",
        "import numpy as np\n",
        "\n",
        "# Initializing X matrix and Y vector\n",
        "X = np.array([[1,1,1],\n",
        "              [1,2,4], [1,3,9], [1,4,16]])\n",
        "Y = np.array([6,11,18,27])\n",
        "print(X)\n",
        "print(Y)\n",
        "\n",
        "# Transpose of matrix X\n",
        "X_T = X.T\n",
        "print(X_T)\n",
        "\n",
        "# multiplying X_T and X\n",
        "X_T_X = np.dot(X_T,X)\n",
        "print(X_T_X)\n",
        "\n",
        "# result will be always Symmetric matrix (equals to its transpose)\n",
        "# determinat of X_T_X\n",
        "det_X_T_X = round(np.linalg.det(X_T_X),2)\n",
        "print(det_X_T_X)\n",
        "\n",
        "# inverse of X_T_X\n",
        "inv_X_T_X = np.linalg.inv(X_T_X)\n",
        "print(inv_X_T_X)\n",
        "\n",
        "# dot product of X_T and Y\n",
        "X_T_Y = np.dot(X_T,Y)\n",
        "print(X_T_Y)\n",
        "\n",
        "# dot product of inv_X_T_X and X_T_Y\n",
        "B = np.dot(inv_X_T_X,X_T_Y)\n",
        "print(B)"
      ],
      "metadata": {
        "colab": {
          "base_uri": "https://localhost:8080/"
        },
        "id": "fSHRCuRYmPvt",
        "outputId": "8e5bab52-c0a9-4c25-9151-1eabd8bb7d08"
      },
      "execution_count": 18,
      "outputs": [
        {
          "output_type": "stream",
          "name": "stdout",
          "text": [
            "[[ 1  1  1]\n",
            " [ 1  2  4]\n",
            " [ 1  3  9]\n",
            " [ 1  4 16]]\n",
            "[ 6 11 18 27]\n",
            "[[ 1  1  1  1]\n",
            " [ 1  2  3  4]\n",
            " [ 1  4  9 16]]\n",
            "[[  4  10  30]\n",
            " [ 10  30 100]\n",
            " [ 30 100 354]]\n",
            "80.0\n",
            "[[ 7.75 -6.75  1.25]\n",
            " [-6.75  6.45 -1.25]\n",
            " [ 1.25 -1.25  0.25]]\n",
            "[ 62 190 644]\n",
            "[3. 2. 1.]\n"
          ]
        }
      ]
    },
    {
      "cell_type": "code",
      "source": [
        "# final polynomial regression equation y = B0 + B1x1 + B2x2 + ... + BnXn\n",
        "for i in range(len(B)):\n",
        "  if i == 0:\n",
        "    print(f\"y = {round(B[i])}\",end=\" \")\n",
        "  else:\n",
        "    print(f\"+ {round(B[i])}.x{i}\",end=\" \")"
      ],
      "metadata": {
        "colab": {
          "base_uri": "https://localhost:8080/"
        },
        "id": "5BQg1CLti6C9",
        "outputId": "e7660ad8-6e44-4850-8060-56f844f786e5"
      },
      "execution_count": 21,
      "outputs": [
        {
          "output_type": "stream",
          "name": "stdout",
          "text": [
            "y = 3 + 2.x1 + 1.x2 "
          ]
        }
      ]
    }
  ]
}