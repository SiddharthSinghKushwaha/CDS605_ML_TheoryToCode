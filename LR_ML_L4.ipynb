{
  "nbformat": 4,
  "nbformat_minor": 0,
  "metadata": {
    "colab": {
      "provenance": [],
      "authorship_tag": "ABX9TyMV1GF0YIfs6wpIkXMtwPSp",
      "include_colab_link": true
    },
    "kernelspec": {
      "name": "python3",
      "display_name": "Python 3"
    },
    "language_info": {
      "name": "python"
    }
  },
  "cells": [
    {
      "cell_type": "markdown",
      "metadata": {
        "id": "view-in-github",
        "colab_type": "text"
      },
      "source": [
        "<a href=\"https://colab.research.google.com/github/SiddharthSinghKushwaha/CDS605_ML_TheoryToCode/blob/main/LR_ML_L4.ipynb\" target=\"_parent\"><img src=\"https://colab.research.google.com/assets/colab-badge.svg\" alt=\"Open In Colab\"/></a>"
      ]
    },
    {
      "cell_type": "markdown",
      "source": [
        "Python Implementation of **Linear Regression**. ML class by [Anabik Sir](https://iiserbpr.ac.in/people/profile/anabikpal), IISER Berhampur on 19th August, 2025."
      ],
      "metadata": {
        "id": "n0eTV1xqVOUH"
      }
    },
    {
      "cell_type": "code",
      "execution_count": 1,
      "metadata": {
        "id": "3z1gCFebU9uT",
        "colab": {
          "base_uri": "https://localhost:8080/"
        },
        "outputId": "3a148d74-3a54-474c-fe59-0f07ecad3bb5"
      },
      "outputs": [
        {
          "output_type": "stream",
          "name": "stdout",
          "text": [
            "[ 5  7 10 12 20]\n",
            "[10 20 30 40 50]\n"
          ]
        }
      ],
      "source": [
        "# Import Library\n",
        "import numpy as np\n",
        "x = np.array([5, 7, 10 , 12, 20])\n",
        "y = np.array([10, 20, 30, 40, 50])\n",
        "print(x)\n",
        "print(y)"
      ]
    },
    {
      "cell_type": "code",
      "source": [
        "# Calculating mean of x and y\n",
        "xm = np.mean(x)   # to change the datatype use dtype = int\n",
        "ym = np.mean(y)  # ym -> y_mean\n",
        "print(xm)\n",
        "print(ym)\n",
        "\n",
        "# use this snippet if you need less number of decimal points\n",
        "# xm = round(np.mean(x), 2)"
      ],
      "metadata": {
        "colab": {
          "base_uri": "https://localhost:8080/"
        },
        "id": "wCtbfBTLX69A",
        "outputId": "36def145-84b4-4038-cb8a-2571504b7e00"
      },
      "execution_count": null,
      "outputs": [
        {
          "output_type": "stream",
          "name": "stdout",
          "text": [
            "10.8\n",
            "30.0\n"
          ]
        }
      ]
    },
    {
      "cell_type": "code",
      "source": [
        "# calculting (xi - x_mean) and (yi - y_mean)\n",
        "# save the (xi - x_mean) result in x1 and consider same for y1\n",
        "x1 = np.zeros(len(x))\n",
        "y1 = np.zeros(len(y))\n",
        "for i in range(len(x)):\n",
        "    x1[i] = x[i] - xm\n",
        "    y1[i] = y[i] - ym\n",
        "print(x1)\n",
        "print(y1)"
      ],
      "metadata": {
        "colab": {
          "base_uri": "https://localhost:8080/"
        },
        "id": "S-j0LpzVYQiw",
        "outputId": "e3fe806d-18a2-4ef3-df84-64ae8c64db3b"
      },
      "execution_count": null,
      "outputs": [
        {
          "output_type": "stream",
          "name": "stdout",
          "text": [
            "[-5.8 -3.8 -0.8  1.2  9.2]\n",
            "[-20. -10.   0.  10.  20.]\n"
          ]
        }
      ]
    },
    {
      "cell_type": "code",
      "source": [
        "# Calculating dot product for xi.(xi - x_mean) and xi(yi - y_mean)\n",
        "xf = np.dot(x, x1)  # x_final = [1,2,3,4,5].[-2,-1,0,1,2] = 1x-2 + 2x-1 + 3x0 + 4x1 + 5x2 = -2 + -2 + 0 + 4 + 10 = 10\n",
        "yf = np.dot(x, y1)  # y_final\n",
        "print(xf)\n",
        "print(yf)"
      ],
      "metadata": {
        "colab": {
          "base_uri": "https://localhost:8080/"
        },
        "id": "BD_txVl8am0z",
        "outputId": "1286190a-f117-4b1a-c1f1-32be370608c9"
      },
      "execution_count": null,
      "outputs": [
        {
          "output_type": "stream",
          "name": "stdout",
          "text": [
            "134.79999999999998\n",
            "350.0\n"
          ]
        }
      ]
    },
    {
      "cell_type": "code",
      "source": [
        "# Calculating B1 (beta1) & B0 as per the equation\n",
        "B1 = np.divide(yf,xf)\n",
        "B0 = ym - np.dot(B1, xm)\n",
        "print(\"Value of: Beta1:\",B1,\" and Beta0:\", B0)"
      ],
      "metadata": {
        "colab": {
          "base_uri": "https://localhost:8080/"
        },
        "id": "GkzZKE4zbdth",
        "outputId": "33a12761-03bb-4e71-dc33-8646579c7e61"
      },
      "execution_count": null,
      "outputs": [
        {
          "output_type": "stream",
          "name": "stdout",
          "text": [
            "Value of: Beta1: 2.596439169139466  and Beta0: 1.9584569732937638\n"
          ]
        }
      ]
    },
    {
      "cell_type": "code",
      "source": [
        "# Final equation\n",
        "print(f\"y = {B0} + {B1}x\")"
      ],
      "metadata": {
        "colab": {
          "base_uri": "https://localhost:8080/"
        },
        "id": "18vQBb4Me-qx",
        "outputId": "0a43aadb-a50b-4385-f5cb-a309089685b5"
      },
      "execution_count": null,
      "outputs": [
        {
          "output_type": "stream",
          "name": "stdout",
          "text": [
            "y = 1.9584569732937638 + 2.596439169139466x\n"
          ]
        }
      ]
    },
    {
      "cell_type": "code",
      "source": [
        "# x is independent variable and y is dependent\n",
        "x_demo = 7\n",
        "y_demo = B0 + B1*x_demo\n",
        "print(y_demo)"
      ],
      "metadata": {
        "colab": {
          "base_uri": "https://localhost:8080/"
        },
        "id": "9bs5tRqyfm5x",
        "outputId": "421244af-c80e-4ddd-c098-c9c19a7a9648"
      },
      "execution_count": null,
      "outputs": [
        {
          "output_type": "stream",
          "name": "stdout",
          "text": [
            "20.133531157270028\n"
          ]
        }
      ]
    },
    {
      "cell_type": "code",
      "source": [
        "# Plotting\n",
        "import matplotlib.pyplot as plt\n",
        "plt.scatter(x,y)\n",
        "plt.plot(x,B0 + B1*x)\n",
        "plt.show()"
      ],
      "metadata": {
        "colab": {
          "base_uri": "https://localhost:8080/",
          "height": 430
        },
        "id": "ESHuhthAgUmz",
        "outputId": "0931cd09-b3fc-400f-c116-2fa4ae9951b5"
      },
      "execution_count": null,
      "outputs": [
        {
          "output_type": "display_data",
          "data": {
            "text/plain": [
              "<Figure size 640x480 with 1 Axes>"
            ],
            "image/png": "[encoded data removed]"
          },
          "metadata": {}
        }
      ]
    },
    {
      "cell_type": "code",
      "source": [],
      "metadata": {
        "id": "wzb6E6mjlHTd"
      },
      "execution_count": null,
      "outputs": []
    }
  ]
}