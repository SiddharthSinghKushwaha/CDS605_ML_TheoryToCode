{
  "nbformat": 4,
  "nbformat_minor": 0,
  "metadata": {
    "colab": {
      "provenance": [],
      "authorship_tag": "ABX9TyPbcd59t5Oe9TklRP2ghE9W",
      "include_colab_link": true
    },
    "kernelspec": {
      "name": "python3",
      "display_name": "Python 3"
    },
    "language_info": {
      "name": "python"
    }
  },
  "cells": [
    {
      "cell_type": "markdown",
      "metadata": {
        "id": "view-in-github",
        "colab_type": "text"
      },
      "source": [
        "<a href=\"https://colab.research.google.com/github/SiddharthSinghKushwaha/CDS605_ML_TheoryToCode/blob/main/Confusion_Matrix.ipynb\" target=\"_parent\"><img src=\"https://colab.research.google.com/assets/colab-badge.svg\" alt=\"Open In Colab\"/></a>"
      ]
    },
    {
      "cell_type": "code",
      "execution_count": 10,
      "metadata": {
        "colab": {
          "base_uri": "https://localhost:8080/"
        },
        "id": "VyEQl3RqVuMk",
        "outputId": "43e05828-d320-48b6-d45e-8f9943837e24"
      },
      "outputs": [
        {
          "output_type": "stream",
          "name": "stdout",
          "text": [
            "['man' 'man' 'woman' 'man' 'woman' 'woman' 'woman' 'man' 'man' 'woman']\n",
            "['woman' 'man' 'woman' 'man' 'woman' 'woman' 'man' 'man' 'woman' 'woman']\n"
          ]
        }
      ],
      "source": [
        "# importing library\n",
        "import numpy as np\n",
        "\n",
        "# initialising data\n",
        "\n",
        "actual = np.array(['man', 'man', 'woman', 'man', 'woman', 'woman', 'woman', 'man', 'man', 'woman'])\n",
        "predicated = np.array(['woman', 'man', 'woman', 'man', 'woman', 'woman', 'man', 'man', 'woman', 'woman'])\n",
        "print(actual)\n",
        "print(predicated)"
      ]
    },
    {
      "cell_type": "code",
      "source": [
        "# Converting Categorical data into numerical\n",
        "a = np.zeros(len(actual), dtype='int')\n",
        "p = np.zeros(len(actual), dtype='int')\n",
        "for i in range(len(actual)):\n",
        "  if actual[i] == 'woman':\n",
        "    a[i] = 1\n",
        "  if predicated[i] == 'woman':\n",
        "    p[i] = 1\n",
        "print(a)\n",
        "print(p)"
      ],
      "metadata": {
        "colab": {
          "base_uri": "https://localhost:8080/"
        },
        "id": "-I8u40iYX5bC",
        "outputId": "126c774a-a326-41c0-8ebd-c7bb31023007"
      },
      "execution_count": 13,
      "outputs": [
        {
          "output_type": "stream",
          "name": "stdout",
          "text": [
            "[0 0 1 0 1 1 1 0 0 1]\n",
            "[1. 0. 1. 0. 1. 1. 0. 0. 1. 1.]\n"
          ]
        }
      ]
    },
    {
      "cell_type": "code",
      "source": [
        "# Creating confusion matrix\n",
        "\n",
        "# tp = np.logical_and(a,p)  [using numpy]\n",
        "\n",
        "# calculating tp using for loop\n",
        "tp = tn = fp = fn = 0\n",
        "for i in range(len(a)):\n",
        "  if a[i] == 1 and p[i] ==1:\n",
        "    tp += 1\n",
        "\n",
        "tn = np.logical_and(a == 0, p == 0)\n",
        "tn = np.count_nonzero(tn)\n",
        "fp = np.logical_and(a == 0, p == 1)\n",
        "fp = np.count_nonzero(fp)\n",
        "fn = np.logical_and(a == 1, p == 0)\n",
        "fn = np.count_nonzero(fn)\n",
        "\n",
        "# confusion matrix\n",
        "cm = np.array([[tp, fn], [fp, tn]])\n",
        "print(cm)"
      ],
      "metadata": {
        "colab": {
          "base_uri": "https://localhost:8080/"
        },
        "id": "uhfKjX2IaiFx",
        "outputId": "ffb8088f-456a-4b1e-f681-5f8aff92e1cc"
      },
      "execution_count": 23,
      "outputs": [
        {
          "output_type": "stream",
          "name": "stdout",
          "text": [
            "[[4 1]\n",
            " [2 3]]\n"
          ]
        }
      ]
    },
    {
      "cell_type": "code",
      "source": [
        "# Calculating Accuracy, Precision, Recall and F1-score\n",
        "acc = (tp+tn)/(tp+tn+fp+fn)\n",
        "prec = tp/(tp+fp)\n",
        "rec = tp/(tp+fn)\n",
        "f1 = 2*prec*rec/(prec+rec)\n",
        "print(\"Accuracy = \", round(acc, 2))\n",
        "print(\"Precision = \", round(prec, 2))\n",
        "print(\"Recall = \", round(rec,2))\n",
        "print(\"F1-score = \", round(f1,2))"
      ],
      "metadata": {
        "colab": {
          "base_uri": "https://localhost:8080/"
        },
        "id": "6ZcHRlY_b1h6",
        "outputId": "128b0369-7c98-4161-8457-9e3a63086e2a"
      },
      "execution_count": 19,
      "outputs": [
        {
          "output_type": "stream",
          "name": "stdout",
          "text": [
            "Accuracy =  0.7\n",
            "Precision =  0.67\n",
            "Recall =  0.8\n",
            "F1-score =  0.73\n"
          ]
        }
      ]
    },
    {
      "cell_type": "code",
      "source": [
        "# True negative rate (Specificity)\n",
        "tnr = tn/(tn+fp)\n",
        "print(\"True negative rate = \", round(tnr,2))"
      ],
      "metadata": {
        "colab": {
          "base_uri": "https://localhost:8080/"
        },
        "id": "zIwWCvAlsJxK",
        "outputId": "7a6eeeaa-be40-4cfe-ac50-b2c380e31b35"
      },
      "execution_count": 20,
      "outputs": [
        {
          "output_type": "stream",
          "name": "stdout",
          "text": [
            "True negative rate =  0.6\n"
          ]
        }
      ]
    },
    {
      "cell_type": "markdown",
      "source": [
        "# verifying result using Scikit learn"
      ],
      "metadata": {
        "id": "TsQkObTevSeK"
      }
    },
    {
      "cell_type": "code",
      "source": [
        "from sklearn.metrics import confusion_matrix, accuracy_score, precision_score, recall_score, f1_score\n",
        "cm = confusion_matrix(actual, predicated)\n",
        "print(cm)\n",
        "# result is stored in the form of tn, fp, fn, tp"
      ],
      "metadata": {
        "colab": {
          "base_uri": "https://localhost:8080/"
        },
        "id": "T7Hz2Jwlsovz",
        "outputId": "b23dfe2e-c121-406c-be4d-16514f127565"
      },
      "execution_count": 27,
      "outputs": [
        {
          "output_type": "stream",
          "name": "stdout",
          "text": [
            "[[3 2]\n",
            " [1 4]]\n"
          ]
        }
      ]
    },
    {
      "cell_type": "code",
      "source": [
        "print(\"Accuracy: \", accuracy_score(a, p))\n",
        "print(\"Precision: \", precision_score(a, p))\n",
        "print(\"Recall: \", recall_score(a, p))\n",
        "print(\"F1-score: \", f1_score(a, p))"
      ],
      "metadata": {
        "colab": {
          "base_uri": "https://localhost:8080/"
        },
        "id": "u7N11Q8SucaO",
        "outputId": "6fb9ec1e-ea8f-4e91-eb76-6c385e403edd"
      },
      "execution_count": 26,
      "outputs": [
        {
          "output_type": "stream",
          "name": "stdout",
          "text": [
            "Accuracy:  0.7\n",
            "Precision:  0.6666666666666666\n",
            "Recall:  0.8\n",
            "F1-score:  0.7272727272727273\n"
          ]
        }
      ]
    }
  ]
}