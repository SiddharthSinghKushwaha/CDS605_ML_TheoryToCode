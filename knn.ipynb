{
  "nbformat": 4,
  "nbformat_minor": 0,
  "metadata": {
    "colab": {
      "provenance": [],
      "authorship_tag": "ABX9TyNYJlqXC5Uf/lcXnmnJ/2PG",
      "include_colab_link": true
    },
    "kernelspec": {
      "name": "python3",
      "display_name": "Python 3"
    },
    "language_info": {
      "name": "python"
    }
  },
  "cells": [
    {
      "cell_type": "markdown",
      "metadata": {
        "id": "view-in-github",
        "colab_type": "text"
      },
      "source": [
        "<a href=\"https://colab.research.google.com/github/SiddharthSinghKushwaha/CDS605_ML_TheoryToCode/blob/main/knn.ipynb\" target=\"_parent\"><img src=\"https://colab.research.google.com/assets/colab-badge.svg\" alt=\"Open In Colab\"/></a>"
      ]
    },
    {
      "cell_type": "code",
      "execution_count": 1,
      "metadata": {
        "id": "Ec3zJLlCx3wi"
      },
      "outputs": [],
      "source": [
        "# import library\n",
        "import numpy as np"
      ]
    },
    {
      "cell_type": "code",
      "source": [
        "# input: 15 data points of 2D coordinates (x1, x2)\n",
        "input_data = np.array([[2,10], [2,6], [11,11], [6,9], [6,5], [1,2], [5,10], [6,11], [3,10], [3,8]])\n",
        "class_label = ['C2', 'C1', 'C3', 'C2', 'C1', 'C1', 'C2', 'C2', 'C2', 'C2' ]"
      ],
      "metadata": {
        "id": "1iGGVCr1tc_1"
      },
      "execution_count": 2,
      "outputs": []
    },
    {
      "cell_type": "code",
      "source": [
        "# converting c1 to 0, c2 to 1 and c3 to 2\n",
        "for i in range(len(class_label)):\n",
        "    if class_label[i] == 'C1':\n",
        "        class_label[i] = 0\n",
        "    elif class_label[i] == 'C2':\n",
        "        class_label[i] = 1\n",
        "    else:\n",
        "        class_label[i] = 2"
      ],
      "metadata": {
        "id": "YU8GZ8F-uZlm"
      },
      "execution_count": 3,
      "outputs": []
    },
    {
      "cell_type": "code",
      "source": [
        "# to find the class label for P(5,7)\n",
        "test_point = np.array([5,7])\n",
        "\n",
        "# Using manhantten distance formula\n",
        "distance = np.sum(np.abs(input_data - test_point), axis=1)\n",
        "print(distance)"
      ],
      "metadata": {
        "colab": {
          "base_uri": "https://localhost:8080/"
        },
        "id": "dEAHENyzvq-A",
        "outputId": "df84e7e8-3596-4fbd-8572-015f5d2fdfea"
      },
      "execution_count": 4,
      "outputs": [
        {
          "output_type": "stream",
          "name": "stdout",
          "text": [
            "[ 6  4 10  3  3  9  3  5  5  3]\n"
          ]
        }
      ]
    },
    {
      "cell_type": "code",
      "source": [
        "# to combine distance with their respective class_label\n",
        "combined = np.column_stack((distance, class_label))\n",
        "print(combined)"
      ],
      "metadata": {
        "colab": {
          "base_uri": "https://localhost:8080/"
        },
        "id": "d8C6oSgiwV1_",
        "outputId": "5274aa2f-91fb-4d0f-b535-9d1bfa995c8a"
      },
      "execution_count": 5,
      "outputs": [
        {
          "output_type": "stream",
          "name": "stdout",
          "text": [
            "[[ 6  1]\n",
            " [ 4  0]\n",
            " [10  2]\n",
            " [ 3  1]\n",
            " [ 3  0]\n",
            " [ 9  0]\n",
            " [ 3  1]\n",
            " [ 5  1]\n",
            " [ 5  1]\n",
            " [ 3  1]]\n"
          ]
        }
      ]
    },
    {
      "cell_type": "code",
      "source": [
        "# suppose k = 3\n",
        "# picking top 3 class label\n",
        "k = int(input(\"Enter the value of k: \"))\n",
        "\n",
        "combined = combined[combined[:, 0].argsort()][:k]\n",
        "print(combined)"
      ],
      "metadata": {
        "colab": {
          "base_uri": "https://localhost:8080/"
        },
        "id": "esWSnv8GxntB",
        "outputId": "40ea9efd-205d-4cb9-ff1d-31584acc83ab"
      },
      "execution_count": 6,
      "outputs": [
        {
          "output_type": "stream",
          "name": "stdout",
          "text": [
            "Enter the value of k: 4\n",
            "[[3 1]\n",
            " [3 0]\n",
            " [3 1]\n",
            " [3 1]]\n"
          ]
        }
      ]
    },
    {
      "cell_type": "code",
      "source": [
        "# calculating the majority of class and printing the Class label it belong to\n",
        "countC1=countC2=countC3=0\n",
        "for i in range(k):\n",
        "    if combined[i][1] == 0:\n",
        "        countC1 += 1\n",
        "    elif combined[i][1] == 1:\n",
        "        countC2 += 1\n",
        "    else:\n",
        "        countC3 += 1"
      ],
      "metadata": {
        "id": "gAyLCpHvyA-Z"
      },
      "execution_count": 7,
      "outputs": []
    },
    {
      "cell_type": "code",
      "source": [
        "if countC1 > countC2 and countC1 > countC3:\n",
        "    print(\"Class label of P(5,7) is C1\")\n",
        "elif countC2 > countC1 and countC2 > countC3:\n",
        "    print(\"Class label of P(5,7) is C2\")\n",
        "else:\n",
        "    print(\"Class label of P(5,7) is C3\")"
      ],
      "metadata": {
        "colab": {
          "base_uri": "https://localhost:8080/"
        },
        "id": "CzagNcNPyUDd",
        "outputId": "f0a74cf6-9b8d-4d8e-a642-46fe53331667"
      },
      "execution_count": 8,
      "outputs": [
        {
          "output_type": "stream",
          "name": "stdout",
          "text": [
            "Class label of P(5,7) is C2\n"
          ]
        }
      ]
    },
    {
      "cell_type": "code",
      "source": [],
      "metadata": {
        "id": "aFxiGK1NyrMg"
      },
      "execution_count": null,
      "outputs": []
    }
  ]
}