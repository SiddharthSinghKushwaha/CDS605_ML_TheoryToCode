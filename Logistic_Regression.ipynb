{
  "nbformat": 4,
  "nbformat_minor": 0,
  "metadata": {
    "colab": {
      "provenance": [],
      "authorship_tag": "ABX9TyOureqXUqBKTnzOb9iUQaA3",
      "include_colab_link": true
    },
    "kernelspec": {
      "name": "python3",
      "display_name": "Python 3"
    },
    "language_info": {
      "name": "python"
    }
  },
  "cells": [
    {
      "cell_type": "markdown",
      "metadata": {
        "id": "view-in-github",
        "colab_type": "text"
      },
      "source": [
        "<a href=\"https://colab.research.google.com/github/SiddharthSinghKushwaha/CDS605_ML_TheoryToCode/blob/main/Logistic_Regression.ipynb\" target=\"_parent\"><img src=\"https://colab.research.google.com/assets/colab-badge.svg\" alt=\"Open In Colab\"/></a>"
      ]
    },
    {
      "cell_type": "markdown",
      "source": [
        "# Logistic Regression\n",
        "\n",
        "Implementing Logistic Regression using the same problem discussed in the classroom.\n",
        "\n",
        "For a single iteration (without using a loop). No use of AI."
      ],
      "metadata": {
        "id": "Nw1ADn5xPQNx"
      }
    },
    {
      "cell_type": "code",
      "execution_count": 4,
      "metadata": {
        "id": "3httveaBPB-I"
      },
      "outputs": [],
      "source": [
        "# import library\n",
        "import numpy as np\n",
        "\n",
        "# initial x1, x2, and y\n",
        "x1 = np.array([120,130,140,110,150,125,135,118,145,128])\n",
        "x2 = np.array([200,220,230,180,240,210,225,195,235,205])\n",
        "y = np.array([0,1,1,0,1,0,1,0,1,0])\n",
        "\n",
        "# z = w1x1 + w2x2 + b (as per the question)\n",
        "\n",
        "# initial parameters\n",
        "w1 = w2 = b = 0\n",
        "eta = 0.01 # learning rate\n",
        "m = len(x1) # number of parameters"
      ]
    },
    {
      "cell_type": "code",
      "source": [
        "# Calculating sigma(z) using initial parameters\n",
        "z = w1*x1[0] + w2*x2[0] + b\n",
        "sigma_z = np.divide(1, (1 + np.pow(np.e, -z)))\n",
        "print(np.round(sigma_z, 2))"
      ],
      "metadata": {
        "colab": {
          "base_uri": "https://localhost:8080/"
        },
        "id": "1bq61CV5jzLv",
        "outputId": "3f17dcf1-4ebb-4c54-9fdd-38a5a6ed9d11"
      },
      "execution_count": 6,
      "outputs": [
        {
          "output_type": "stream",
          "name": "stdout",
          "text": [
            "0.5\n"
          ]
        }
      ]
    },
    {
      "cell_type": "code",
      "source": [
        "# partial derivatives of J w.r.t w1\n",
        "pd_w1 = np.divide(np.dot(np.subtract(0.5, y), x1), m)\n",
        "\n",
        "# partial derivatives of J w.r.t w2\n",
        "pd_w2 = np.divide(np.dot(np.subtract(0.5, y), x2), m)\n",
        "\n",
        "# partial derivatives of J w.r.t b\n",
        "pd_b = np.divide(np.sum(np.subtract(0.5, y)), m)\n",
        "\n",
        "print(pd_w1, pd_w2, pd_b)"
      ],
      "metadata": {
        "colab": {
          "base_uri": "https://localhost:8080/"
        },
        "id": "JKSZtXAEnZdZ",
        "outputId": "9d1888fc-2945-4fdc-a6cc-d7dab072e2af"
      },
      "execution_count": 19,
      "outputs": [
        {
          "output_type": "stream",
          "name": "stdout",
          "text": [
            "-4.95 -8.0 0.0\n"
          ]
        }
      ]
    },
    {
      "cell_type": "code",
      "source": [
        "# updating the values of w1, w2, b\n",
        "w1_new = w1 - eta*pd_w1\n",
        "w2_new = w2 - eta*pd_w2\n",
        "b_new = b - eta*b\n",
        "\n",
        "# Updated values after 1st iterations\n",
        "print(\"w1 new = \", w1_new)\n",
        "print(\"w2_new = \", w2_new)\n",
        "print(\"b_new = \", b_new)"
      ],
      "metadata": {
        "colab": {
          "base_uri": "https://localhost:8080/"
        },
        "id": "JSzREbBbqrbV",
        "outputId": "280977fe-506f-4986-eddf-c4ba6ba4971a"
      },
      "execution_count": 22,
      "outputs": [
        {
          "output_type": "stream",
          "name": "stdout",
          "text": [
            "w1 new =  0.0495\n",
            "w2_new =  0.08\n",
            "b_new =  0.0\n"
          ]
        }
      ]
    },
    {
      "cell_type": "code",
      "source": [
        "# Based on the new updated values, predicting probalilty for x1_pred=130, x2_pred=220\n",
        "x1_pred = 130\n",
        "x2_pred = 220\n",
        "z_pred = w1_new*x1_pred + w2_new*x2_pred + b\n",
        "sigma_z_pred = round(np.divide(1, (1 + np.pow(np.e, -z_pred))))\n",
        "if sigma_z_pred:\n",
        "  print(\"Disease\")\n",
        "else:\n",
        "  print(\"Not Disease\")"
      ],
      "metadata": {
        "colab": {
          "base_uri": "https://localhost:8080/"
        },
        "id": "Hfzs73j6tFWz",
        "outputId": "756485bf-fe51-498d-a418-0d25d91002bc"
      },
      "execution_count": 23,
      "outputs": [
        {
          "output_type": "stream",
          "name": "stdout",
          "text": [
            "Disease\n"
          ]
        }
      ]
    },
    {
      "cell_type": "markdown",
      "source": [
        "# LR Using Loop for N number of iterations"
      ],
      "metadata": {
        "id": "RLg4dtT30CpR"
      }
    },
    {
      "cell_type": "code",
      "source": [],
      "metadata": {
        "id": "SXiuG3N_0Ixi"
      },
      "execution_count": null,
      "outputs": []
    }
  ]
}